{
 "cells": [
  {
   "cell_type": "code",
   "execution_count": null,
   "id": "5da59b78",
   "metadata": {},
   "outputs": [],
   "source": [
    "import pandas as pd\n",
    "import numpy as np\n",
    "import pickle\n",
    "import os\n",
    "from flask import Flask,request, render_template"
   ]
  },
  {
   "cell_type": "code",
   "execution_count": null,
   "id": "6a632d41",
   "metadata": {},
   "outputs": [],
   "source": [
    "app = Flask(__name__,template_folder = 'templates')\n"
   ]
  },
  {
   "cell_type": "code",
   "execution_count": null,
   "id": "d8844632",
   "metadata": {},
   "outputs": [],
   "source": [
    "@app.route('/', methods=['GET'])\n",
    "def index():\n",
    "    return render_template('home.html')\n",
    "@app.route('/home', methods=['GET'])\n",
    "def about():\n",
    "    return render_template('home.html')\n",
    "@app.route('/pred',methods=['GET'])\n",
    "def page():\n",
    "    return render_template('upload.html')\n"
   ]
  },
  {
   "cell_type": "code",
   "execution_count": null,
   "id": "fe1071c0",
   "metadata": {},
   "outputs": [],
   "source": [
    "@app.route('/predict', methods=['GET', 'POST'])\n",
    "def predict():\n",
    "    print(\"[INFO] loading model...\")\n",
    "    model = pickle.load(open('fdemand.pkl', 'rb'))\n",
    "    input_features = [float(x) for x in request.form.values()]\n",
    "    features_value = [np.array(input_features)]\n",
    "    print(features_value)\n",
    "    \n",
    "    features_name = ['homepage_featured', 'emailer_for_promotion', 'op_area', 'cuisine',\n",
    "       'city_code', 'region_code', 'category']\n",
    "    prediction = model.predict(features_value)\n",
    "    output=prediction[0]    \n",
    "    print(output)\n",
    "    return render_template('upload.html', prediction_text=output)"
   ]
  },
  {
   "cell_type": "code",
   "execution_count": null,
   "id": "fe280248",
   "metadata": {
    "scrolled": true
   },
   "outputs": [],
   "source": [
    "# if __name__ == '__main__':\n",
    "#     app.run(host='0.0.0.0',port = 8000,debug = False)\n",
    "if __name__ == '__main__':\n",
    "      app.run(debug=False)"
   ]
  },
  {
   "cell_type": "code",
   "execution_count": null,
   "id": "3e576646",
   "metadata": {},
   "outputs": [],
   "source": []
  }
 ],
 "metadata": {
  "kernelspec": {
   "display_name": "Python 3 (ipykernel)",
   "language": "python",
   "name": "python3"
  },
  "language_info": {
   "codemirror_mode": {
    "name": "ipython",
    "version": 3
   },
   "file_extension": ".py",
   "mimetype": "text/x-python",
   "name": "python",
   "nbconvert_exporter": "python",
   "pygments_lexer": "ipython3",
   "version": "3.9.7"
  }
 },
 "nbformat": 4,
 "nbformat_minor": 5
}
